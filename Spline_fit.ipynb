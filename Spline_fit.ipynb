{
  "nbformat": 4,
  "nbformat_minor": 0,
  "metadata": {
    "colab": {
      "provenance": []
    },
    "kernelspec": {
      "name": "python3",
      "display_name": "Python 3"
    },
    "language_info": {
      "name": "python"
    }
  },
  "cells": [
    {
      "cell_type": "code",
      "execution_count": null,
      "metadata": {
        "id": "xPGzfj8JqbS_"
      },
      "outputs": [],
      "source": [
        "import numpy as np\n",
        "import pandas as pd\n"
      ]
    },
    {
      "cell_type": "code",
      "source": [
        "df1 = pd.read_csv(\"/content/1.5wt.csv\", header = None)"
      ],
      "metadata": {
        "id": "_2DKcz-zOBv9"
      },
      "execution_count": null,
      "outputs": []
    },
    {
      "cell_type": "code",
      "source": [
        "df1.columns"
      ],
      "metadata": {
        "colab": {
          "base_uri": "https://localhost:8080/"
        },
        "id": "g892wwlbOLhr",
        "outputId": "6555a8b6-1026-480c-8192-d6d56b2dfe74"
      },
      "execution_count": null,
      "outputs": [
        {
          "output_type": "execute_result",
          "data": {
            "text/plain": [
              "Int64Index([0, 1], dtype='int64')"
            ]
          },
          "metadata": {},
          "execution_count": 150
        }
      ]
    },
    {
      "cell_type": "code",
      "source": [
        "df1=df1.iloc[:801,1:]"
      ],
      "metadata": {
        "id": "nk4KZSs8OS1D"
      },
      "execution_count": null,
      "outputs": []
    },
    {
      "cell_type": "code",
      "source": [
        "df1"
      ],
      "metadata": {
        "colab": {
          "base_uri": "https://localhost:8080/",
          "height": 423
        },
        "id": "3MGOD5cHOXDL",
        "outputId": "afe020bf-bbd9-434f-aa96-ca79a7086403"
      },
      "execution_count": null,
      "outputs": [
        {
          "output_type": "execute_result",
          "data": {
            "text/plain": [
              "           1\n",
              "0    64.3482\n",
              "1    64.3482\n",
              "2    64.3482\n",
              "3    64.3482\n",
              "4    64.3482\n",
              "..       ...\n",
              "796  46.8885\n",
              "797  47.0948\n",
              "798  47.2502\n",
              "799  47.2593\n",
              "800  47.1803\n",
              "\n",
              "[801 rows x 1 columns]"
            ],
            "text/html": [
              "\n",
              "  <div id=\"df-8fc8de05-d778-4694-9a99-e1347090cf17\" class=\"colab-df-container\">\n",
              "    <div>\n",
              "<style scoped>\n",
              "    .dataframe tbody tr th:only-of-type {\n",
              "        vertical-align: middle;\n",
              "    }\n",
              "\n",
              "    .dataframe tbody tr th {\n",
              "        vertical-align: top;\n",
              "    }\n",
              "\n",
              "    .dataframe thead th {\n",
              "        text-align: right;\n",
              "    }\n",
              "</style>\n",
              "<table border=\"1\" class=\"dataframe\">\n",
              "  <thead>\n",
              "    <tr style=\"text-align: right;\">\n",
              "      <th></th>\n",
              "      <th>1</th>\n",
              "    </tr>\n",
              "  </thead>\n",
              "  <tbody>\n",
              "    <tr>\n",
              "      <th>0</th>\n",
              "      <td>64.3482</td>\n",
              "    </tr>\n",
              "    <tr>\n",
              "      <th>1</th>\n",
              "      <td>64.3482</td>\n",
              "    </tr>\n",
              "    <tr>\n",
              "      <th>2</th>\n",
              "      <td>64.3482</td>\n",
              "    </tr>\n",
              "    <tr>\n",
              "      <th>3</th>\n",
              "      <td>64.3482</td>\n",
              "    </tr>\n",
              "    <tr>\n",
              "      <th>4</th>\n",
              "      <td>64.3482</td>\n",
              "    </tr>\n",
              "    <tr>\n",
              "      <th>...</th>\n",
              "      <td>...</td>\n",
              "    </tr>\n",
              "    <tr>\n",
              "      <th>796</th>\n",
              "      <td>46.8885</td>\n",
              "    </tr>\n",
              "    <tr>\n",
              "      <th>797</th>\n",
              "      <td>47.0948</td>\n",
              "    </tr>\n",
              "    <tr>\n",
              "      <th>798</th>\n",
              "      <td>47.2502</td>\n",
              "    </tr>\n",
              "    <tr>\n",
              "      <th>799</th>\n",
              "      <td>47.2593</td>\n",
              "    </tr>\n",
              "    <tr>\n",
              "      <th>800</th>\n",
              "      <td>47.1803</td>\n",
              "    </tr>\n",
              "  </tbody>\n",
              "</table>\n",
              "<p>801 rows × 1 columns</p>\n",
              "</div>\n",
              "    <div class=\"colab-df-buttons\">\n",
              "\n",
              "  <div class=\"colab-df-container\">\n",
              "    <button class=\"colab-df-convert\" onclick=\"convertToInteractive('df-8fc8de05-d778-4694-9a99-e1347090cf17')\"\n",
              "            title=\"Convert this dataframe to an interactive table.\"\n",
              "            style=\"display:none;\">\n",
              "\n",
              "  <svg xmlns=\"http://www.w3.org/2000/svg\" height=\"24px\" viewBox=\"0 -960 960 960\">\n",
              "    <path d=\"M120-120v-720h720v720H120Zm60-500h600v-160H180v160Zm220 220h160v-160H400v160Zm0 220h160v-160H400v160ZM180-400h160v-160H180v160Zm440 0h160v-160H620v160ZM180-180h160v-160H180v160Zm440 0h160v-160H620v160Z\"/>\n",
              "  </svg>\n",
              "    </button>\n",
              "\n",
              "  <style>\n",
              "    .colab-df-container {\n",
              "      display:flex;\n",
              "      gap: 12px;\n",
              "    }\n",
              "\n",
              "    .colab-df-convert {\n",
              "      background-color: #E8F0FE;\n",
              "      border: none;\n",
              "      border-radius: 50%;\n",
              "      cursor: pointer;\n",
              "      display: none;\n",
              "      fill: #1967D2;\n",
              "      height: 32px;\n",
              "      padding: 0 0 0 0;\n",
              "      width: 32px;\n",
              "    }\n",
              "\n",
              "    .colab-df-convert:hover {\n",
              "      background-color: #E2EBFA;\n",
              "      box-shadow: 0px 1px 2px rgba(60, 64, 67, 0.3), 0px 1px 3px 1px rgba(60, 64, 67, 0.15);\n",
              "      fill: #174EA6;\n",
              "    }\n",
              "\n",
              "    .colab-df-buttons div {\n",
              "      margin-bottom: 4px;\n",
              "    }\n",
              "\n",
              "    [theme=dark] .colab-df-convert {\n",
              "      background-color: #3B4455;\n",
              "      fill: #D2E3FC;\n",
              "    }\n",
              "\n",
              "    [theme=dark] .colab-df-convert:hover {\n",
              "      background-color: #434B5C;\n",
              "      box-shadow: 0px 1px 3px 1px rgba(0, 0, 0, 0.15);\n",
              "      filter: drop-shadow(0px 1px 2px rgba(0, 0, 0, 0.3));\n",
              "      fill: #FFFFFF;\n",
              "    }\n",
              "  </style>\n",
              "\n",
              "    <script>\n",
              "      const buttonEl =\n",
              "        document.querySelector('#df-8fc8de05-d778-4694-9a99-e1347090cf17 button.colab-df-convert');\n",
              "      buttonEl.style.display =\n",
              "        google.colab.kernel.accessAllowed ? 'block' : 'none';\n",
              "\n",
              "      async function convertToInteractive(key) {\n",
              "        const element = document.querySelector('#df-8fc8de05-d778-4694-9a99-e1347090cf17');\n",
              "        const dataTable =\n",
              "          await google.colab.kernel.invokeFunction('convertToInteractive',\n",
              "                                                    [key], {});\n",
              "        if (!dataTable) return;\n",
              "\n",
              "        const docLinkHtml = 'Like what you see? Visit the ' +\n",
              "          '<a target=\"_blank\" href=https://colab.research.google.com/notebooks/data_table.ipynb>data table notebook</a>'\n",
              "          + ' to learn more about interactive tables.';\n",
              "        element.innerHTML = '';\n",
              "        dataTable['output_type'] = 'display_data';\n",
              "        await google.colab.output.renderOutput(dataTable, element);\n",
              "        const docLink = document.createElement('div');\n",
              "        docLink.innerHTML = docLinkHtml;\n",
              "        element.appendChild(docLink);\n",
              "      }\n",
              "    </script>\n",
              "  </div>\n",
              "\n",
              "\n",
              "<div id=\"df-2eadbd4f-7778-450d-84e2-60a02111a52b\">\n",
              "  <button class=\"colab-df-quickchart\" onclick=\"quickchart('df-2eadbd4f-7778-450d-84e2-60a02111a52b')\"\n",
              "            title=\"Suggest charts\"\n",
              "            style=\"display:none;\">\n",
              "\n",
              "<svg xmlns=\"http://www.w3.org/2000/svg\" height=\"24px\"viewBox=\"0 0 24 24\"\n",
              "     width=\"24px\">\n",
              "    <g>\n",
              "        <path d=\"M19 3H5c-1.1 0-2 .9-2 2v14c0 1.1.9 2 2 2h14c1.1 0 2-.9 2-2V5c0-1.1-.9-2-2-2zM9 17H7v-7h2v7zm4 0h-2V7h2v10zm4 0h-2v-4h2v4z\"/>\n",
              "    </g>\n",
              "</svg>\n",
              "  </button>\n",
              "\n",
              "<style>\n",
              "  .colab-df-quickchart {\n",
              "      --bg-color: #E8F0FE;\n",
              "      --fill-color: #1967D2;\n",
              "      --hover-bg-color: #E2EBFA;\n",
              "      --hover-fill-color: #174EA6;\n",
              "      --disabled-fill-color: #AAA;\n",
              "      --disabled-bg-color: #DDD;\n",
              "  }\n",
              "\n",
              "  [theme=dark] .colab-df-quickchart {\n",
              "      --bg-color: #3B4455;\n",
              "      --fill-color: #D2E3FC;\n",
              "      --hover-bg-color: #434B5C;\n",
              "      --hover-fill-color: #FFFFFF;\n",
              "      --disabled-bg-color: #3B4455;\n",
              "      --disabled-fill-color: #666;\n",
              "  }\n",
              "\n",
              "  .colab-df-quickchart {\n",
              "    background-color: var(--bg-color);\n",
              "    border: none;\n",
              "    border-radius: 50%;\n",
              "    cursor: pointer;\n",
              "    display: none;\n",
              "    fill: var(--fill-color);\n",
              "    height: 32px;\n",
              "    padding: 0;\n",
              "    width: 32px;\n",
              "  }\n",
              "\n",
              "  .colab-df-quickchart:hover {\n",
              "    background-color: var(--hover-bg-color);\n",
              "    box-shadow: 0 1px 2px rgba(60, 64, 67, 0.3), 0 1px 3px 1px rgba(60, 64, 67, 0.15);\n",
              "    fill: var(--button-hover-fill-color);\n",
              "  }\n",
              "\n",
              "  .colab-df-quickchart-complete:disabled,\n",
              "  .colab-df-quickchart-complete:disabled:hover {\n",
              "    background-color: var(--disabled-bg-color);\n",
              "    fill: var(--disabled-fill-color);\n",
              "    box-shadow: none;\n",
              "  }\n",
              "\n",
              "  .colab-df-spinner {\n",
              "    border: 2px solid var(--fill-color);\n",
              "    border-color: transparent;\n",
              "    border-bottom-color: var(--fill-color);\n",
              "    animation:\n",
              "      spin 1s steps(1) infinite;\n",
              "  }\n",
              "\n",
              "  @keyframes spin {\n",
              "    0% {\n",
              "      border-color: transparent;\n",
              "      border-bottom-color: var(--fill-color);\n",
              "      border-left-color: var(--fill-color);\n",
              "    }\n",
              "    20% {\n",
              "      border-color: transparent;\n",
              "      border-left-color: var(--fill-color);\n",
              "      border-top-color: var(--fill-color);\n",
              "    }\n",
              "    30% {\n",
              "      border-color: transparent;\n",
              "      border-left-color: var(--fill-color);\n",
              "      border-top-color: var(--fill-color);\n",
              "      border-right-color: var(--fill-color);\n",
              "    }\n",
              "    40% {\n",
              "      border-color: transparent;\n",
              "      border-right-color: var(--fill-color);\n",
              "      border-top-color: var(--fill-color);\n",
              "    }\n",
              "    60% {\n",
              "      border-color: transparent;\n",
              "      border-right-color: var(--fill-color);\n",
              "    }\n",
              "    80% {\n",
              "      border-color: transparent;\n",
              "      border-right-color: var(--fill-color);\n",
              "      border-bottom-color: var(--fill-color);\n",
              "    }\n",
              "    90% {\n",
              "      border-color: transparent;\n",
              "      border-bottom-color: var(--fill-color);\n",
              "    }\n",
              "  }\n",
              "</style>\n",
              "\n",
              "  <script>\n",
              "    async function quickchart(key) {\n",
              "      const quickchartButtonEl =\n",
              "        document.querySelector('#' + key + ' button');\n",
              "      quickchartButtonEl.disabled = true;  // To prevent multiple clicks.\n",
              "      quickchartButtonEl.classList.add('colab-df-spinner');\n",
              "      try {\n",
              "        const charts = await google.colab.kernel.invokeFunction(\n",
              "            'suggestCharts', [key], {});\n",
              "      } catch (error) {\n",
              "        console.error('Error during call to suggestCharts:', error);\n",
              "      }\n",
              "      quickchartButtonEl.classList.remove('colab-df-spinner');\n",
              "      quickchartButtonEl.classList.add('colab-df-quickchart-complete');\n",
              "    }\n",
              "    (() => {\n",
              "      let quickchartButtonEl =\n",
              "        document.querySelector('#df-2eadbd4f-7778-450d-84e2-60a02111a52b button');\n",
              "      quickchartButtonEl.style.display =\n",
              "        google.colab.kernel.accessAllowed ? 'block' : 'none';\n",
              "    })();\n",
              "  </script>\n",
              "</div>\n",
              "\n",
              "  <div id=\"id_4f1620d7-be9e-46c5-b893-87eab9e5369a\">\n",
              "    <style>\n",
              "      .colab-df-generate {\n",
              "        background-color: #E8F0FE;\n",
              "        border: none;\n",
              "        border-radius: 50%;\n",
              "        cursor: pointer;\n",
              "        display: none;\n",
              "        fill: #1967D2;\n",
              "        height: 32px;\n",
              "        padding: 0 0 0 0;\n",
              "        width: 32px;\n",
              "      }\n",
              "\n",
              "      .colab-df-generate:hover {\n",
              "        background-color: #E2EBFA;\n",
              "        box-shadow: 0px 1px 2px rgba(60, 64, 67, 0.3), 0px 1px 3px 1px rgba(60, 64, 67, 0.15);\n",
              "        fill: #174EA6;\n",
              "      }\n",
              "\n",
              "      [theme=dark] .colab-df-generate {\n",
              "        background-color: #3B4455;\n",
              "        fill: #D2E3FC;\n",
              "      }\n",
              "\n",
              "      [theme=dark] .colab-df-generate:hover {\n",
              "        background-color: #434B5C;\n",
              "        box-shadow: 0px 1px 3px 1px rgba(0, 0, 0, 0.15);\n",
              "        filter: drop-shadow(0px 1px 2px rgba(0, 0, 0, 0.3));\n",
              "        fill: #FFFFFF;\n",
              "      }\n",
              "    </style>\n",
              "    <button class=\"colab-df-generate\" onclick=\"generateWithVariable('df1')\"\n",
              "            title=\"Generate code using this dataframe.\"\n",
              "            style=\"display:none;\">\n",
              "\n",
              "  <svg xmlns=\"http://www.w3.org/2000/svg\" height=\"24px\"viewBox=\"0 0 24 24\"\n",
              "       width=\"24px\">\n",
              "    <path d=\"M7,19H8.4L18.45,9,17,7.55,7,17.6ZM5,21V16.75L18.45,3.32a2,2,0,0,1,2.83,0l1.4,1.43a1.91,1.91,0,0,1,.58,1.4,1.91,1.91,0,0,1-.58,1.4L9.25,21ZM18.45,9,17,7.55Zm-12,3A5.31,5.31,0,0,0,4.9,8.1,5.31,5.31,0,0,0,1,6.5,5.31,5.31,0,0,0,4.9,4.9,5.31,5.31,0,0,0,6.5,1,5.31,5.31,0,0,0,8.1,4.9,5.31,5.31,0,0,0,12,6.5,5.46,5.46,0,0,0,6.5,12Z\"/>\n",
              "  </svg>\n",
              "    </button>\n",
              "    <script>\n",
              "      (() => {\n",
              "      const buttonEl =\n",
              "        document.querySelector('#id_4f1620d7-be9e-46c5-b893-87eab9e5369a button.colab-df-generate');\n",
              "      buttonEl.style.display =\n",
              "        google.colab.kernel.accessAllowed ? 'block' : 'none';\n",
              "\n",
              "      buttonEl.onclick = () => {\n",
              "        google.colab.notebook.generateWithVariable('df1');\n",
              "      }\n",
              "      })();\n",
              "    </script>\n",
              "  </div>\n",
              "\n",
              "    </div>\n",
              "  </div>\n"
            ],
            "application/vnd.google.colaboratory.intrinsic+json": {
              "type": "dataframe",
              "variable_name": "df1",
              "summary": "{\n  \"name\": \"df1\",\n  \"rows\": 801,\n  \"fields\": [\n    {\n      \"column\": 1,\n      \"properties\": {\n        \"dtype\": \"number\",\n        \"std\": 7.829094023247824,\n        \"min\": 25.4125,\n        \"max\": 64.3482,\n        \"num_unique_values\": 774,\n        \"samples\": [\n          43.8179,\n          50.0134,\n          44.326\n        ],\n        \"semantic_type\": \"\",\n        \"description\": \"\"\n      }\n    }\n  ]\n}"
            }
          },
          "metadata": {},
          "execution_count": 152
        }
      ]
    },
    {
      "cell_type": "code",
      "source": [
        "import matplotlib.pyplot as plt\n"
      ],
      "metadata": {
        "id": "1UcXrEqUnbZ6"
      },
      "execution_count": null,
      "outputs": []
    },
    {
      "cell_type": "code",
      "source": [
        "fig, ax=plt.subplots()\n",
        "ax.plot(df1)"
      ],
      "metadata": {
        "colab": {
          "base_uri": "https://localhost:8080/",
          "height": 447
        },
        "id": "ABoOYUhvOcPb",
        "outputId": "aebeef9f-5392-4059-b839-3edc3ba2d590"
      },
      "execution_count": null,
      "outputs": [
        {
          "output_type": "execute_result",
          "data": {
            "text/plain": [
              "[<matplotlib.lines.Line2D at 0x787022170130>]"
            ]
          },
          "metadata": {},
          "execution_count": 154
        },
        {
          "output_type": "display_data",
          "data": {
            "text/plain": [
              "<Figure size 640x480 with 1 Axes>"
            ],
            "image/png": "[encoded data removed]"
          },
          "metadata": {}
        }
      ]
    },
    {
      "cell_type": "code",
      "source": [
        "df1.columns = ['values']\n",
        "df1"
      ],
      "metadata": {
        "colab": {
          "base_uri": "https://localhost:8080/",
          "height": 423
        },
        "id": "bEVe6fD6RGRr",
        "outputId": "0f1f73f7-20d6-498a-dacf-5670e7697ec8"
      },
      "execution_count": null,
      "outputs": [
        {
          "output_type": "execute_result",
          "data": {
            "text/plain": [
              "      values\n",
              "0    64.3482\n",
              "1    64.3482\n",
              "2    64.3482\n",
              "3    64.3482\n",
              "4    64.3482\n",
              "..       ...\n",
              "796  46.8885\n",
              "797  47.0948\n",
              "798  47.2502\n",
              "799  47.2593\n",
              "800  47.1803\n",
              "\n",
              "[801 rows x 1 columns]"
            ],
            "text/html": [
              "\n",
              "  <div id=\"df-aea225b5-485c-4ec6-b516-2bef308c3a74\" class=\"colab-df-container\">\n",
              "    <div>\n",
              "<style scoped>\n",
              "    .dataframe tbody tr th:only-of-type {\n",
              "        vertical-align: middle;\n",
              "    }\n",
              "\n",
              "    .dataframe tbody tr th {\n",
              "        vertical-align: top;\n",
              "    }\n",
              "\n",
              "    .dataframe thead th {\n",
              "        text-align: right;\n",
              "    }\n",
              "</style>\n",
              "<table border=\"1\" class=\"dataframe\">\n",
              "  <thead>\n",
              "    <tr style=\"text-align: right;\">\n",
              "      <th></th>\n",
              "      <th>values</th>\n",
              "    </tr>\n",
              "  </thead>\n",
              "  <tbody>\n",
              "    <tr>\n",
              "      <th>0</th>\n",
              "      <td>64.3482</td>\n",
              "    </tr>\n",
              "    <tr>\n",
              "      <th>1</th>\n",
              "      <td>64.3482</td>\n",
              "    </tr>\n",
              "    <tr>\n",
              "      <th>2</th>\n",
              "      <td>64.3482</td>\n",
              "    </tr>\n",
              "    <tr>\n",
              "      <th>3</th>\n",
              "      <td>64.3482</td>\n",
              "    </tr>\n",
              "    <tr>\n",
              "      <th>4</th>\n",
              "      <td>64.3482</td>\n",
              "    </tr>\n",
              "    <tr>\n",
              "      <th>...</th>\n",
              "      <td>...</td>\n",
              "    </tr>\n",
              "    <tr>\n",
              "      <th>796</th>\n",
              "      <td>46.8885</td>\n",
              "    </tr>\n",
              "    <tr>\n",
              "      <th>797</th>\n",
              "      <td>47.0948</td>\n",
              "    </tr>\n",
              "    <tr>\n",
              "      <th>798</th>\n",
              "      <td>47.2502</td>\n",
              "    </tr>\n",
              "    <tr>\n",
              "      <th>799</th>\n",
              "      <td>47.2593</td>\n",
              "    </tr>\n",
              "    <tr>\n",
              "      <th>800</th>\n",
              "      <td>47.1803</td>\n",
              "    </tr>\n",
              "  </tbody>\n",
              "</table>\n",
              "<p>801 rows × 1 columns</p>\n",
              "</div>\n",
              "    <div class=\"colab-df-buttons\">\n",
              "\n",
              "  <div class=\"colab-df-container\">\n",
              "    <button class=\"colab-df-convert\" onclick=\"convertToInteractive('df-aea225b5-485c-4ec6-b516-2bef308c3a74')\"\n",
              "            title=\"Convert this dataframe to an interactive table.\"\n",
              "            style=\"display:none;\">\n",
              "\n",
              "  <svg xmlns=\"http://www.w3.org/2000/svg\" height=\"24px\" viewBox=\"0 -960 960 960\">\n",
              "    <path d=\"M120-120v-720h720v720H120Zm60-500h600v-160H180v160Zm220 220h160v-160H400v160Zm0 220h160v-160H400v160ZM180-400h160v-160H180v160Zm440 0h160v-160H620v160ZM180-180h160v-160H180v160Zm440 0h160v-160H620v160Z\"/>\n",
              "  </svg>\n",
              "    </button>\n",
              "\n",
              "  <style>\n",
              "    .colab-df-container {\n",
              "      display:flex;\n",
              "      gap: 12px;\n",
              "    }\n",
              "\n",
              "    .colab-df-convert {\n",
              "      background-color: #E8F0FE;\n",
              "      border: none;\n",
              "      border-radius: 50%;\n",
              "      cursor: pointer;\n",
              "      display: none;\n",
              "      fill: #1967D2;\n",
              "      height: 32px;\n",
              "      padding: 0 0 0 0;\n",
              "      width: 32px;\n",
              "    }\n",
              "\n",
              "    .colab-df-convert:hover {\n",
              "      background-color: #E2EBFA;\n",
              "      box-shadow: 0px 1px 2px rgba(60, 64, 67, 0.3), 0px 1px 3px 1px rgba(60, 64, 67, 0.15);\n",
              "      fill: #174EA6;\n",
              "    }\n",
              "\n",
              "    .colab-df-buttons div {\n",
              "      margin-bottom: 4px;\n",
              "    }\n",
              "\n",
              "    [theme=dark] .colab-df-convert {\n",
              "      background-color: #3B4455;\n",
              "      fill: #D2E3FC;\n",
              "    }\n",
              "\n",
              "    [theme=dark] .colab-df-convert:hover {\n",
              "      background-color: #434B5C;\n",
              "      box-shadow: 0px 1px 3px 1px rgba(0, 0, 0, 0.15);\n",
              "      filter: drop-shadow(0px 1px 2px rgba(0, 0, 0, 0.3));\n",
              "      fill: #FFFFFF;\n",
              "    }\n",
              "  </style>\n",
              "\n",
              "    <script>\n",
              "      const buttonEl =\n",
              "        document.querySelector('#df-aea225b5-485c-4ec6-b516-2bef308c3a74 button.colab-df-convert');\n",
              "      buttonEl.style.display =\n",
              "        google.colab.kernel.accessAllowed ? 'block' : 'none';\n",
              "\n",
              "      async function convertToInteractive(key) {\n",
              "        const element = document.querySelector('#df-aea225b5-485c-4ec6-b516-2bef308c3a74');\n",
              "        const dataTable =\n",
              "          await google.colab.kernel.invokeFunction('convertToInteractive',\n",
              "                                                    [key], {});\n",
              "        if (!dataTable) return;\n",
              "\n",
              "        const docLinkHtml = 'Like what you see? Visit the ' +\n",
              "          '<a target=\"_blank\" href=https://colab.research.google.com/notebooks/data_table.ipynb>data table notebook</a>'\n",
              "          + ' to learn more about interactive tables.';\n",
              "        element.innerHTML = '';\n",
              "        dataTable['output_type'] = 'display_data';\n",
              "        await google.colab.output.renderOutput(dataTable, element);\n",
              "        const docLink = document.createElement('div');\n",
              "        docLink.innerHTML = docLinkHtml;\n",
              "        element.appendChild(docLink);\n",
              "      }\n",
              "    </script>\n",
              "  </div>\n",
              "\n",
              "\n",
              "<div id=\"df-cd746d04-62c6-42be-a151-dbbae7f4f91a\">\n",
              "  <button class=\"colab-df-quickchart\" onclick=\"quickchart('df-cd746d04-62c6-42be-a151-dbbae7f4f91a')\"\n",
              "            title=\"Suggest charts\"\n",
              "            style=\"display:none;\">\n",
              "\n",
              "<svg xmlns=\"http://www.w3.org/2000/svg\" height=\"24px\"viewBox=\"0 0 24 24\"\n",
              "     width=\"24px\">\n",
              "    <g>\n",
              "        <path d=\"M19 3H5c-1.1 0-2 .9-2 2v14c0 1.1.9 2 2 2h14c1.1 0 2-.9 2-2V5c0-1.1-.9-2-2-2zM9 17H7v-7h2v7zm4 0h-2V7h2v10zm4 0h-2v-4h2v4z\"/>\n",
              "    </g>\n",
              "</svg>\n",
              "  </button>\n",
              "\n",
              "<style>\n",
              "  .colab-df-quickchart {\n",
              "      --bg-color: #E8F0FE;\n",
              "      --fill-color: #1967D2;\n",
              "      --hover-bg-color: #E2EBFA;\n",
              "      --hover-fill-color: #174EA6;\n",
              "      --disabled-fill-color: #AAA;\n",
              "      --disabled-bg-color: #DDD;\n",
              "  }\n",
              "\n",
              "  [theme=dark] .colab-df-quickchart {\n",
              "      --bg-color: #3B4455;\n",
              "      --fill-color: #D2E3FC;\n",
              "      --hover-bg-color: #434B5C;\n",
              "      --hover-fill-color: #FFFFFF;\n",
              "      --disabled-bg-color: #3B4455;\n",
              "      --disabled-fill-color: #666;\n",
              "  }\n",
              "\n",
              "  .colab-df-quickchart {\n",
              "    background-color: var(--bg-color);\n",
              "    border: none;\n",
              "    border-radius: 50%;\n",
              "    cursor: pointer;\n",
              "    display: none;\n",
              "    fill: var(--fill-color);\n",
              "    height: 32px;\n",
              "    padding: 0;\n",
              "    width: 32px;\n",
              "  }\n",
              "\n",
              "  .colab-df-quickchart:hover {\n",
              "    background-color: var(--hover-bg-color);\n",
              "    box-shadow: 0 1px 2px rgba(60, 64, 67, 0.3), 0 1px 3px 1px rgba(60, 64, 67, 0.15);\n",
              "    fill: var(--button-hover-fill-color);\n",
              "  }\n",
              "\n",
              "  .colab-df-quickchart-complete:disabled,\n",
              "  .colab-df-quickchart-complete:disabled:hover {\n",
              "    background-color: var(--disabled-bg-color);\n",
              "    fill: var(--disabled-fill-color);\n",
              "    box-shadow: none;\n",
              "  }\n",
              "\n",
              "  .colab-df-spinner {\n",
              "    border: 2px solid var(--fill-color);\n",
              "    border-color: transparent;\n",
              "    border-bottom-color: var(--fill-color);\n",
              "    animation:\n",
              "      spin 1s steps(1) infinite;\n",
              "  }\n",
              "\n",
              "  @keyframes spin {\n",
              "    0% {\n",
              "      border-color: transparent;\n",
              "      border-bottom-color: var(--fill-color);\n",
              "      border-left-color: var(--fill-color);\n",
              "    }\n",
              "    20% {\n",
              "      border-color: transparent;\n",
              "      border-left-color: var(--fill-color);\n",
              "      border-top-color: var(--fill-color);\n",
              "    }\n",
              "    30% {\n",
              "      border-color: transparent;\n",
              "      border-left-color: var(--fill-color);\n",
              "      border-top-color: var(--fill-color);\n",
              "      border-right-color: var(--fill-color);\n",
              "    }\n",
              "    40% {\n",
              "      border-color: transparent;\n",
              "      border-right-color: var(--fill-color);\n",
              "      border-top-color: var(--fill-color);\n",
              "    }\n",
              "    60% {\n",
              "      border-color: transparent;\n",
              "      border-right-color: var(--fill-color);\n",
              "    }\n",
              "    80% {\n",
              "      border-color: transparent;\n",
              "      border-right-color: var(--fill-color);\n",
              "      border-bottom-color: var(--fill-color);\n",
              "    }\n",
              "    90% {\n",
              "      border-color: transparent;\n",
              "      border-bottom-color: var(--fill-color);\n",
              "    }\n",
              "  }\n",
              "</style>\n",
              "\n",
              "  <script>\n",
              "    async function quickchart(key) {\n",
              "      const quickchartButtonEl =\n",
              "        document.querySelector('#' + key + ' button');\n",
              "      quickchartButtonEl.disabled = true;  // To prevent multiple clicks.\n",
              "      quickchartButtonEl.classList.add('colab-df-spinner');\n",
              "      try {\n",
              "        const charts = await google.colab.kernel.invokeFunction(\n",
              "            'suggestCharts', [key], {});\n",
              "      } catch (error) {\n",
              "        console.error('Error during call to suggestCharts:', error);\n",
              "      }\n",
              "      quickchartButtonEl.classList.remove('colab-df-spinner');\n",
              "      quickchartButtonEl.classList.add('colab-df-quickchart-complete');\n",
              "    }\n",
              "    (() => {\n",
              "      let quickchartButtonEl =\n",
              "        document.querySelector('#df-cd746d04-62c6-42be-a151-dbbae7f4f91a button');\n",
              "      quickchartButtonEl.style.display =\n",
              "        google.colab.kernel.accessAllowed ? 'block' : 'none';\n",
              "    })();\n",
              "  </script>\n",
              "</div>\n",
              "\n",
              "  <div id=\"id_96125ece-7478-4b67-a600-d4fb7fb6b782\">\n",
              "    <style>\n",
              "      .colab-df-generate {\n",
              "        background-color: #E8F0FE;\n",
              "        border: none;\n",
              "        border-radius: 50%;\n",
              "        cursor: pointer;\n",
              "        display: none;\n",
              "        fill: #1967D2;\n",
              "        height: 32px;\n",
              "        padding: 0 0 0 0;\n",
              "        width: 32px;\n",
              "      }\n",
              "\n",
              "      .colab-df-generate:hover {\n",
              "        background-color: #E2EBFA;\n",
              "        box-shadow: 0px 1px 2px rgba(60, 64, 67, 0.3), 0px 1px 3px 1px rgba(60, 64, 67, 0.15);\n",
              "        fill: #174EA6;\n",
              "      }\n",
              "\n",
              "      [theme=dark] .colab-df-generate {\n",
              "        background-color: #3B4455;\n",
              "        fill: #D2E3FC;\n",
              "      }\n",
              "\n",
              "      [theme=dark] .colab-df-generate:hover {\n",
              "        background-color: #434B5C;\n",
              "        box-shadow: 0px 1px 3px 1px rgba(0, 0, 0, 0.15);\n",
              "        filter: drop-shadow(0px 1px 2px rgba(0, 0, 0, 0.3));\n",
              "        fill: #FFFFFF;\n",
              "      }\n",
              "    </style>\n",
              "    <button class=\"colab-df-generate\" onclick=\"generateWithVariable('df1')\"\n",
              "            title=\"Generate code using this dataframe.\"\n",
              "            style=\"display:none;\">\n",
              "\n",
              "  <svg xmlns=\"http://www.w3.org/2000/svg\" height=\"24px\"viewBox=\"0 0 24 24\"\n",
              "       width=\"24px\">\n",
              "    <path d=\"M7,19H8.4L18.45,9,17,7.55,7,17.6ZM5,21V16.75L18.45,3.32a2,2,0,0,1,2.83,0l1.4,1.43a1.91,1.91,0,0,1,.58,1.4,1.91,1.91,0,0,1-.58,1.4L9.25,21ZM18.45,9,17,7.55Zm-12,3A5.31,5.31,0,0,0,4.9,8.1,5.31,5.31,0,0,0,1,6.5,5.31,5.31,0,0,0,4.9,4.9,5.31,5.31,0,0,0,6.5,1,5.31,5.31,0,0,0,8.1,4.9,5.31,5.31,0,0,0,12,6.5,5.46,5.46,0,0,0,6.5,12Z\"/>\n",
              "  </svg>\n",
              "    </button>\n",
              "    <script>\n",
              "      (() => {\n",
              "      const buttonEl =\n",
              "        document.querySelector('#id_96125ece-7478-4b67-a600-d4fb7fb6b782 button.colab-df-generate');\n",
              "      buttonEl.style.display =\n",
              "        google.colab.kernel.accessAllowed ? 'block' : 'none';\n",
              "\n",
              "      buttonEl.onclick = () => {\n",
              "        google.colab.notebook.generateWithVariable('df1');\n",
              "      }\n",
              "      })();\n",
              "    </script>\n",
              "  </div>\n",
              "\n",
              "    </div>\n",
              "  </div>\n"
            ],
            "application/vnd.google.colaboratory.intrinsic+json": {
              "type": "dataframe",
              "variable_name": "df1",
              "summary": "{\n  \"name\": \"df1\",\n  \"rows\": 801,\n  \"fields\": [\n    {\n      \"column\": \"values\",\n      \"properties\": {\n        \"dtype\": \"number\",\n        \"std\": 7.829094023247824,\n        \"min\": 25.4125,\n        \"max\": 64.3482,\n        \"num_unique_values\": 774,\n        \"samples\": [\n          43.8179,\n          50.0134,\n          44.326\n        ],\n        \"semantic_type\": \"\",\n        \"description\": \"\"\n      }\n    }\n  ]\n}"
            }
          },
          "metadata": {},
          "execution_count": 155
        }
      ]
    },
    {
      "cell_type": "code",
      "source": [
        "from scipy.signal import argrelextrema\n"
      ],
      "metadata": {
        "id": "xZSm-ytaRMa2"
      },
      "execution_count": null,
      "outputs": []
    },
    {
      "cell_type": "code",
      "source": [
        "df1=np.array(df1['values'])\n"
      ],
      "metadata": {
        "id": "QJ5YLsxVRMXb"
      },
      "execution_count": null,
      "outputs": []
    },
    {
      "cell_type": "code",
      "source": [
        "# Find local maxima using argrelextrema\n",
        "max_index1 = np.array(argrelextrema(df1, np.greater))\n",
        "\n",
        "print(max_index1)"
      ],
      "metadata": {
        "colab": {
          "base_uri": "https://localhost:8080/"
        },
        "id": "vgBk9Ko5RMT4",
        "outputId": "e3bb226f-92c5-45d4-cdbc-c66abd546f54"
      },
      "execution_count": null,
      "outputs": [
        {
          "output_type": "stream",
          "name": "stdout",
          "text": [
            "[[ 85 124 155 185 211 233 254 274 294 314 334 354 374 394 415 434 454 474\n",
            "  494 514 534 554 574 594 615 635 655 676 695 717 737 757 778 799]]\n"
          ]
        }
      ]
    },
    {
      "cell_type": "code",
      "source": [
        "# Find local maxima using argrelextrema\n",
        "min_index = np.array(argrelextrema(df1, np.less))\n",
        "min_index = min_index[:,1:]\n",
        "print(min_index)"
      ],
      "metadata": {
        "colab": {
          "base_uri": "https://localhost:8080/"
        },
        "id": "pWz5ho_nRMGX",
        "outputId": "b346fbdb-4c83-4979-c4b2-8b0784de9d20"
      },
      "execution_count": null,
      "outputs": [
        {
          "output_type": "stream",
          "name": "stdout",
          "text": [
            "[[106 140 170 199 222 244 264 284 304 324 344 364 384 405 424 444 464 484\n",
            "  504 524 544 564 584 605 625 645 665 686 706 727 748 768 788]]\n"
          ]
        }
      ]
    },
    {
      "cell_type": "code",
      "source": [
        "min_index.shape"
      ],
      "metadata": {
        "colab": {
          "base_uri": "https://localhost:8080/"
        },
        "id": "iR0ZdXIwWs6L",
        "outputId": "5f7b1f1a-8254-4e58-907d-131cafd30a21"
      },
      "execution_count": null,
      "outputs": [
        {
          "output_type": "execute_result",
          "data": {
            "text/plain": [
              "(1, 33)"
            ]
          },
          "metadata": {},
          "execution_count": 160
        }
      ]
    },
    {
      "cell_type": "code",
      "source": [
        "print(max_index1.shape)\n",
        "print(min_index.shape)"
      ],
      "metadata": {
        "colab": {
          "base_uri": "https://localhost:8080/"
        },
        "id": "NwYrbDzzRsUl",
        "outputId": "573c047b-b303-426b-9707-3575d568dc1b"
      },
      "execution_count": null,
      "outputs": [
        {
          "output_type": "stream",
          "name": "stdout",
          "text": [
            "(1, 34)\n",
            "(1, 33)\n"
          ]
        }
      ]
    },
    {
      "cell_type": "code",
      "source": [
        "arr_x = []\n",
        "for x in range(df1.size):\n",
        "  arr_x.append(x)"
      ],
      "metadata": {
        "id": "uJbFimD_Rv8e"
      },
      "execution_count": null,
      "outputs": []
    },
    {
      "cell_type": "code",
      "source": [
        "from scipy.signal import savgol_filter\n",
        "x = np.array(arr_x)\n",
        "y = df1\n",
        "yhat = savgol_filter(y, 5, 4) # window size 5, polynomial order 3\n",
        "\n",
        "plt.plot(x,y)\n",
        "plt.plot(x,yhat, color='red')\n",
        "plt.show()"
      ],
      "metadata": {
        "colab": {
          "base_uri": "https://localhost:8080/",
          "height": 430
        },
        "id": "cgu_W4gDRsHE",
        "outputId": "716acba9-2ad6-4ef9-f659-e39d740d1d29"
      },
      "execution_count": null,
      "outputs": [
        {
          "output_type": "display_data",
          "data": {
            "text/plain": [
              "<Figure size 640x480 with 1 Axes>"
            ],
            "image/png": "[encoded data removed]"
          },
          "metadata": {}
        }
      ]
    },
    {
      "cell_type": "code",
      "source": [
        "# Find local maxima using argrelextrema\n",
        "max_index1 = np.array(argrelextrema(yhat, np.greater))\n",
        "print(max_index1.shape)\n",
        "print(max_index1)\n",
        "print(df1[max_index1])\n",
        "\n",
        "# Find local maxima using argrelextrema\n",
        "min_index1 = np.array(argrelextrema(yhat, np.less))\n",
        "min_index1 = min_index1[:,1:]\n",
        "print(min_index1.shape)\n",
        "print(min_index1)\n",
        "print(df1[min_index1])"
      ],
      "metadata": {
        "colab": {
          "base_uri": "https://localhost:8080/"
        },
        "id": "lEUgztofRzEv",
        "outputId": "8840c99d-7194-4106-f62c-8c08d73315e1"
      },
      "execution_count": null,
      "outputs": [
        {
          "output_type": "stream",
          "name": "stdout",
          "text": [
            "(1, 34)\n",
            "[[ 85 124 155 185 211 233 254 274 294 314 334 354 374 394 415 434 454 474\n",
            "  494 514 534 554 574 594 615 635 655 676 695 717 737 757 778 799]]\n",
            "[[63.2206 62.2675 62.4825 63.5692 63.0128 60.1711 58.0645 57.8606 57.7209\n",
            "  57.4476 56.9138 56.0977 55.2757 54.4729 53.7471 53.0088 52.2696 51.7823\n",
            "  51.2031 50.9741 50.5815 50.3224 50.153  50.0084 49.7831 49.6106 49.3192\n",
            "  48.993  48.7383 48.438  48.1582 47.6743 47.4034 47.2593]]\n",
            "(1, 34)\n",
            "[[ 60 106 140 170 199 222 244 264 284 304 324 344 364 384 405 424 444 464\n",
            "  484 504 524 544 564 584 605 625 645 665 686 706 727 748 768 788]]\n",
            "[[25.4125 27.0503 28.0114 30.9221 32.4202 34.1353 35.9366 36.5413 36.5171\n",
            "  37.0224 37.5007 38.2856 39.0443 39.7287 40.5267 41.3248 42.0797 42.5588\n",
            "  42.9848 43.3536 43.7996 43.9912 44.1074 44.2355 44.2992 44.4557 44.5271\n",
            "  44.3458 44.6408 44.7664 44.9179 44.9445 45.1468 45.1882]]\n"
          ]
        }
      ]
    },
    {
      "cell_type": "code",
      "source": [
        "from scipy.interpolate import interp1d\n",
        "x = max_index1[0]\n",
        "y = df1[max_index1][0]\n",
        "\n",
        "x_interp = np.linspace(np.min(max_index1), np.max(max_index1), (np.max(max_index1)-np.min(max_index1)))\n",
        "\n",
        "y_cubic = interp1d(x,y, kind=\"cubic\")\n",
        "\n",
        "plt.plot(x,y,'o')\n",
        "plt.plot(x_interp, y_cubic(x_interp))"
      ],
      "metadata": {
        "colab": {
          "base_uri": "https://localhost:8080/",
          "height": 447
        },
        "id": "sywjb92PRzBT",
        "outputId": "35645b81-102c-47d1-ffba-3fa84f9435be"
      },
      "execution_count": null,
      "outputs": [
        {
          "output_type": "execute_result",
          "data": {
            "text/plain": [
              "[<matplotlib.lines.Line2D at 0x78702265cd00>]"
            ]
          },
          "metadata": {},
          "execution_count": 166
        },
        {
          "output_type": "display_data",
          "data": {
            "text/plain": [
              "<Figure size 640x480 with 1 Axes>"
            ],
            "image/png": "[encoded data removed]"
          },
          "metadata": {}
        }
      ]
    },
    {
      "cell_type": "code",
      "source": [
        "from scipy.interpolate import interp1d\n",
        "x1 = min_index1[0]\n",
        "y1 = df1[min_index1][0]\n",
        "x_interp1 = np.linspace(np.min(min_index1), np.max(min_index1), (np.max(min_index1)-np.min(min_index1)))\n",
        "y_cubic1 = interp1d(x1,y1, kind=\"cubic\")\n",
        "\n",
        "plt.plot(x1,y1,'o')\n",
        "plt.plot(x_interp1, y_cubic1(x_interp1))"
      ],
      "metadata": {
        "colab": {
          "base_uri": "https://localhost:8080/",
          "height": 447
        },
        "id": "Iix7LAEwSfy0",
        "outputId": "2052af6a-3794-474c-c041-5b989c84e658"
      },
      "execution_count": null,
      "outputs": [
        {
          "output_type": "execute_result",
          "data": {
            "text/plain": [
              "[<matplotlib.lines.Line2D at 0x78702261a020>]"
            ]
          },
          "metadata": {},
          "execution_count": 167
        },
        {
          "output_type": "display_data",
          "data": {
            "text/plain": [
              "<Figure size 640x480 with 1 Axes>"
            ],
            "image/png": "[encoded data removed]"
          },
          "metadata": {}
        }
      ]
    },
    {
      "cell_type": "code",
      "source": [
        "from scipy.interpolate import interp1d\n",
        "\n",
        "x = max_index1[0,0:]\n",
        "y = df1[max_index1][0,0:]\n",
        "x_interp = np.linspace(np.min(max_index1[0,0:]), np.max(max_index1[0,0:]), (np.max(max_index1[0,0:])-np.min(max_index1[0,0:])))\n",
        "y_cubic = interp1d(x,y, kind=\"cubic\")\n",
        "\n",
        "x1 = min_index1[0]\n",
        "y1 = df1[min_index1][0]\n",
        "x_interp1 = np.linspace(np.min(min_index1), np.max(min_index1), (np.max(min_index1)-np.min(min_index1)))\n",
        "y_cubic1 = interp1d(x1,y1, kind=\"cubic\")\n",
        "\n",
        "_ = plt.plot(arr_x, yhat, 'red')\n",
        "\n",
        "\n",
        "plt.plot(x,y,'o')\n",
        "plt.plot(x_interp, y_cubic(x_interp))\n",
        "plt.plot(x1,y1,'o')\n",
        "plt.plot(x_interp1, y_cubic1(x_interp1))\n",
        "plt.show()"
      ],
      "metadata": {
        "colab": {
          "base_uri": "https://localhost:8080/",
          "height": 430
        },
        "id": "ZxS18CGLSfuX",
        "outputId": "50256a24-8766-4c30-9b40-7692152f8abd"
      },
      "execution_count": null,
      "outputs": [
        {
          "output_type": "display_data",
          "data": {
            "text/plain": [
              "<Figure size 640x480 with 1 Axes>"
            ],
            "image/png": "[encoded data removed]"
          },
          "metadata": {}
        }
      ]
    },
    {
      "cell_type": "code",
      "source": [],
      "metadata": {
        "id": "ZnEXEYeHVSmP"
      },
      "execution_count": null,
      "outputs": []
    },
    {
      "cell_type": "code",
      "source": [
        "np.argmin(min_index1)"
      ],
      "metadata": {
        "colab": {
          "base_uri": "https://localhost:8080/"
        },
        "id": "c9YiwPSbTglg",
        "outputId": "cdfa8eac-5337-4b7d-dd1c-4a8524d7df46"
      },
      "execution_count": null,
      "outputs": [
        {
          "output_type": "execute_result",
          "data": {
            "text/plain": [
              "0"
            ]
          },
          "metadata": {},
          "execution_count": 181
        }
      ]
    },
    {
      "cell_type": "code",
      "source": [
        "df1[min_index1][0,0]"
      ],
      "metadata": {
        "colab": {
          "base_uri": "https://localhost:8080/"
        },
        "id": "6fgIeUOTUN8b",
        "outputId": "31b2634a-6981-492e-8b2a-9c3f8fd435fd"
      },
      "execution_count": null,
      "outputs": [
        {
          "output_type": "execute_result",
          "data": {
            "text/plain": [
              "25.4125"
            ]
          },
          "metadata": {},
          "execution_count": 169
        }
      ]
    },
    {
      "cell_type": "code",
      "source": [
        "g_min = np.zeros(df1.size)\n",
        "for i in range (0, 60):\n",
        "  g_min[i] = df1[min_index1][0,0]\n"
      ],
      "metadata": {
        "id": "o8CrK3L3SfrC"
      },
      "execution_count": null,
      "outputs": []
    },
    {
      "cell_type": "code",
      "source": [
        "g_min = np.concatenate((g_min, y_cubic1(x_interp1)), axis=None)\n"
      ],
      "metadata": {
        "id": "pfDaJfFcSfn7"
      },
      "execution_count": null,
      "outputs": []
    },
    {
      "cell_type": "code",
      "source": [
        "plt.plot(g_min, '-')\n",
        "\n",
        "plt.plot(x_interp1, y_cubic1(x_interp1))\n",
        "plt.show()\n"
      ],
      "metadata": {
        "colab": {
          "base_uri": "https://localhost:8080/",
          "height": 430
        },
        "id": "scc6YzqMUsg0",
        "outputId": "e2255990-cd83-4fd2-f2c5-16c18777c6ab"
      },
      "execution_count": null,
      "outputs": [
        {
          "output_type": "display_data",
          "data": {
            "text/plain": [
              "<Figure size 640x480 with 1 Axes>"
            ],
            "image/png": "[encoded data removed]"
          },
          "metadata": {}
        }
      ]
    },
    {
      "cell_type": "code",
      "source": [
        "max_index[0][0]"
      ],
      "metadata": {
        "colab": {
          "base_uri": "https://localhost:8080/"
        },
        "id": "PX9sFbaKo_dA",
        "outputId": "9ee3410c-ffef-40a5-bfcd-2c33c6497b98"
      },
      "execution_count": null,
      "outputs": [
        {
          "output_type": "execute_result",
          "data": {
            "text/plain": [
              "85"
            ]
          },
          "metadata": {},
          "execution_count": 180
        }
      ]
    },
    {
      "cell_type": "code",
      "source": [
        "max_index[0,1]"
      ],
      "metadata": {
        "colab": {
          "base_uri": "https://localhost:8080/"
        },
        "id": "GN8Qpg9NpX5Z",
        "outputId": "e23996f1-bf7a-4403-e2a0-ea3ea1434231"
      },
      "execution_count": null,
      "outputs": [
        {
          "output_type": "execute_result",
          "data": {
            "text/plain": [
              "124"
            ]
          },
          "metadata": {},
          "execution_count": 182
        }
      ]
    },
    {
      "cell_type": "code",
      "source": [
        "g_max = np.zeros(max_index[0][0])\n",
        "for i in range (0, max_index[0][0]):\n",
        "  g_max[i] = df1[max_index][0,0]"
      ],
      "metadata": {
        "id": "0R4yztVfUsck"
      },
      "execution_count": null,
      "outputs": []
    },
    {
      "cell_type": "code",
      "source": [
        "g_max = np.concatenate((g_max, y_cubic(x_interp)), axis=None)"
      ],
      "metadata": {
        "id": "pa7ah3XkUsZs"
      },
      "execution_count": null,
      "outputs": []
    },
    {
      "cell_type": "code",
      "source": [
        "_ = plt.plot(g_max, '-')\n",
        "plt.plot(x,y,'o')\n",
        "plt.plot(x_interp, y_cubic(x_interp))\n",
        "plt.show()"
      ],
      "metadata": {
        "id": "EhOo1lIFUsXC"
      },
      "execution_count": null,
      "outputs": []
    },
    {
      "cell_type": "code",
      "source": [
        "g_max = np.zeros(max_index[0][0])"
      ],
      "metadata": {
        "id": "hEmqTBR2vP1e"
      },
      "execution_count": null,
      "outputs": []
    },
    {
      "cell_type": "code",
      "source": [
        "for i in range(0,26):\n",
        "  g_max[i]=65"
      ],
      "metadata": {
        "id": "YcCz6Xs4tVSm"
      },
      "execution_count": null,
      "outputs": []
    },
    {
      "cell_type": "code",
      "source": [
        "y_cubic(x_interp)[0]"
      ],
      "metadata": {
        "colab": {
          "base_uri": "https://localhost:8080/"
        },
        "id": "gDiEo47Pt4UR",
        "outputId": "5113fb25-007d-4938-eec8-6375eda2f936"
      },
      "execution_count": null,
      "outputs": [
        {
          "output_type": "execute_result",
          "data": {
            "text/plain": [
              "63.2206"
            ]
          },
          "metadata": {},
          "execution_count": 185
        }
      ]
    },
    {
      "cell_type": "code",
      "source": [
        "for i in range(25, max_index[0][0]):\n",
        "  g_max[i] = (g_max[25] - y_cubic(x_interp)[0]) * (i - max_index[0][0])/(25-max_index[0][0]) +y_cubic(x_interp)[0]"
      ],
      "metadata": {
        "id": "11n8-YC-rYxc"
      },
      "execution_count": null,
      "outputs": []
    },
    {
      "cell_type": "code",
      "source": [
        "g_max[25] - y_cubic(x_interp)[0]"
      ],
      "metadata": {
        "colab": {
          "base_uri": "https://localhost:8080/"
        },
        "id": "PhT7dVS-wNUt",
        "outputId": "a97e4128-671a-458e-9bac-d0bd816bf20c"
      },
      "execution_count": null,
      "outputs": [
        {
          "output_type": "execute_result",
          "data": {
            "text/plain": [
              "1.7794000000000025"
            ]
          },
          "metadata": {},
          "execution_count": 88
        }
      ]
    },
    {
      "cell_type": "markdown",
      "source": [],
      "metadata": {
        "id": "visRlY1jvFxZ"
      }
    },
    {
      "cell_type": "code",
      "source": [
        "g_max1 = np.concatenate((g_max, y_cubic(x_interp)), axis=None)"
      ],
      "metadata": {
        "id": "CcB-1PwovCe1"
      },
      "execution_count": null,
      "outputs": []
    },
    {
      "cell_type": "code",
      "source": [
        "plt.plot(arr_x, yhat, 'red')\n",
        "plt.plot(g_max1, '-')\n",
        "plt.plot(g_min, '-')\n",
        "plt.show()\n"
      ],
      "metadata": {
        "colab": {
          "base_uri": "https://localhost:8080/",
          "height": 430
        },
        "id": "pn1Mb-PUrz-P",
        "outputId": "35ee9979-7ca6-4bd0-c1ee-f8c823b92538"
      },
      "execution_count": null,
      "outputs": [
        {
          "output_type": "display_data",
          "data": {
            "text/plain": [
              "<Figure size 640x480 with 1 Axes>"
            ],
            "image/png": "[encoded data removed]"
          },
          "metadata": {}
        }
      ]
    },
    {
      "cell_type": "code",
      "source": [
        "import matplotlib.pyplot as plt"
      ],
      "metadata": {
        "id": "NGy-qOzuqzJJ"
      },
      "execution_count": null,
      "outputs": []
    },
    {
      "cell_type": "code",
      "source": [
        "df.columns"
      ],
      "metadata": {
        "id": "bDa1UjnwrH0c"
      },
      "execution_count": null,
      "outputs": []
    },
    {
      "cell_type": "code",
      "source": [
        "df = df.iloc[:,1:]\n"
      ],
      "metadata": {
        "id": "5TTtClGcrUbH"
      },
      "execution_count": null,
      "outputs": []
    },
    {
      "cell_type": "code",
      "source": [
        "df = np.array(df)"
      ],
      "metadata": {
        "id": "Dk6xO6Nsr4F3"
      },
      "execution_count": null,
      "outputs": []
    },
    {
      "cell_type": "code",
      "source": [
        "df.shape"
      ],
      "metadata": {
        "id": "2-CFRu6yACPi"
      },
      "execution_count": null,
      "outputs": []
    },
    {
      "cell_type": "code",
      "source": [
        "fig, ax=plt.subplots()\n",
        "ax.plot(df)"
      ],
      "metadata": {
        "id": "5eqMOkTHq445"
      },
      "execution_count": null,
      "outputs": []
    },
    {
      "cell_type": "code",
      "source": [
        "slope = np.empty(520)\n",
        "#diff2 = np.empty(520)\n",
        "k = np.empty(520)\n"
      ],
      "metadata": {
        "id": "j5i5UsWMEsy7"
      },
      "execution_count": null,
      "outputs": []
    },
    {
      "cell_type": "code",
      "source": [
        "for i in range(1, df.size-1):\n",
        "  tx = [i-1,i,i+1]\n",
        "  ty = [df[i-1],df[i],df[i+1]]\n",
        "  coeff = np.polyfit(tx,ty,3)\n",
        "  diff1 = 3*coeff[0]*i**2 + 2*coeff[1]*i+coeff[2]\n",
        "  diff2=6*coeff[0]*i + 2*coeff[1]\n",
        "  slope[i-1]=diff1\n",
        "\n",
        "  k[i-1] = (diff2/(1+diff1**2))**1.5 + diff1/i*((1+diff1**2)**0.5)\n",
        "\n",
        "plt.plot(slope)\n",
        "\n",
        "plt.plot(k)\n",
        "\n",
        "\n",
        "# Create a polynomial function using the coefficients\n",
        "# poly_func = np.poly1d(coeff)\n",
        "\n",
        "# # Generate x values for plotting the fitted curve\n",
        "# x_fit = np.linspace(min(tx), max(tx), 100)\n",
        "\n",
        "# # Evaluate the polynomial function for the fitted curve\n",
        "# y_fit = poly_func(x_fit)\n",
        "\n",
        "# # Plot the original data points and the fitted curve\n",
        "# plt.scatter(tx, ty, label='Data Points')\n",
        "# plt.plot(x_fit, y_fit, label=f'Fitted Curve (Degree {3})', color='red')\n",
        "# plt.legend()\n",
        "# plt.xlabel('X-axis')\n",
        "# plt.ylabel('Y-axis')\n",
        "# plt.title('Polynomial Curve Fitting')\n",
        "# plt.show()\n"
      ],
      "metadata": {
        "id": "uz6Nu87_7EjU"
      },
      "execution_count": null,
      "outputs": []
    },
    {
      "cell_type": "code",
      "source": [],
      "metadata": {
        "id": "axSCIlaEIkAH"
      },
      "execution_count": null,
      "outputs": []
    },
    {
      "cell_type": "code",
      "source": [],
      "metadata": {
        "id": "2QXK_QeAIj0j"
      },
      "execution_count": null,
      "outputs": []
    },
    {
      "cell_type": "code",
      "source": [
        "diff1"
      ],
      "metadata": {
        "id": "_DzMasYhKKqG"
      },
      "execution_count": null,
      "outputs": []
    },
    {
      "cell_type": "code",
      "source": [
        "coeff"
      ],
      "metadata": {
        "id": "tNl_jYh2BXFC"
      },
      "execution_count": null,
      "outputs": []
    },
    {
      "cell_type": "code",
      "source": [
        "from scipy.signal import argrelextrema\n"
      ],
      "metadata": {
        "id": "tMDc8aKRsV4d"
      },
      "execution_count": null,
      "outputs": []
    },
    {
      "cell_type": "code",
      "source": [
        "df.columns = ['values']\n",
        "df"
      ],
      "metadata": {
        "id": "w0WIK7NvM33G"
      },
      "execution_count": null,
      "outputs": []
    },
    {
      "cell_type": "code",
      "source": [
        "df=np.array(df['values'])"
      ],
      "metadata": {
        "id": "EOXXPwFButLl"
      },
      "execution_count": null,
      "outputs": []
    },
    {
      "cell_type": "code",
      "source": [
        "# Find local maxima using argrelextrema\n",
        "max_index = np.array(argrelextrema(df, np.greater))\n",
        "\n",
        "print(max_index)"
      ],
      "metadata": {
        "id": "uWzzYli3tIys"
      },
      "execution_count": null,
      "outputs": []
    },
    {
      "cell_type": "code",
      "source": [
        "# Find local maxima using argrelextrema\n",
        "min_index = np.array(argrelextrema(df, np.less))\n",
        "\n",
        "print(min_index)"
      ],
      "metadata": {
        "id": "7G6o6K2muWSQ"
      },
      "execution_count": null,
      "outputs": []
    },
    {
      "cell_type": "code",
      "source": [
        "print(max_index.shape)\n",
        "print(min_index.shape)"
      ],
      "metadata": {
        "id": "PKBQXIJ4vDas"
      },
      "execution_count": null,
      "outputs": []
    },
    {
      "cell_type": "code",
      "source": [
        "arr_x = []\n",
        "for x in range(df.size):\n",
        "  arr_x.append(x)"
      ],
      "metadata": {
        "id": "rLPE2vMYwLWn"
      },
      "execution_count": null,
      "outputs": []
    },
    {
      "cell_type": "code",
      "source": [
        "type(arr_x)"
      ],
      "metadata": {
        "id": "kzAqFIsXxCD0"
      },
      "execution_count": null,
      "outputs": []
    },
    {
      "cell_type": "code",
      "source": [
        "from scipy.signal import savgol_filter\n",
        "x = np.array(arr_x)\n",
        "y = df\n",
        "yhat = savgol_filter(y, 10, 3) # window size 5, polynomial order 3\n",
        "\n",
        "plt.plot(x,y)\n",
        "plt.plot(x,yhat, color='red')\n",
        "plt.show()"
      ],
      "metadata": {
        "id": "5LveXSE0vGa7"
      },
      "execution_count": null,
      "outputs": []
    },
    {
      "cell_type": "code",
      "source": [
        "type(yhat)"
      ],
      "metadata": {
        "id": "0FbkIWtVyyG6"
      },
      "execution_count": null,
      "outputs": []
    },
    {
      "cell_type": "code",
      "source": [
        "# Find local maxima using argrelextrema\n",
        "max_index1 = np.array(argrelextrema(yhat, np.greater))\n",
        "print(max_index1)\n",
        "print(df[max_index1])\n",
        "\n",
        "# Find local maxima using argrelextrema\n",
        "min_index1 = np.array(argrelextrema(yhat, np.less))\n",
        "print(min_index1)\n",
        "print(df[min_index1])"
      ],
      "metadata": {
        "id": "QEMTip2Lvc5U"
      },
      "execution_count": null,
      "outputs": []
    },
    {
      "cell_type": "code",
      "source": [
        "print(max_index1.shape)\n",
        "print(min_index1.shape)"
      ],
      "metadata": {
        "id": "HpoQuMkgy7EC"
      },
      "execution_count": null,
      "outputs": []
    },
    {
      "cell_type": "code",
      "source": [
        "max_index1[0,0]"
      ],
      "metadata": {
        "id": "Ach6katy0Sla"
      },
      "execution_count": null,
      "outputs": []
    },
    {
      "cell_type": "code",
      "source": [
        "df[max_index1[0,0]]"
      ],
      "metadata": {
        "id": "hGZ-Nz1Ry_wV"
      },
      "execution_count": null,
      "outputs": []
    },
    {
      "cell_type": "code",
      "source": [
        "from scipy.interpolate import interp1d\n",
        "x = max_index1[0]\n",
        "y = df[max_index1][0]\n",
        "\n",
        "x_interp = np.linspace(np.min(max_index1), np.max(max_index1), (np.max(max_index1)-np.min(max_index1)))\n",
        "\n",
        "y_cubic = interp1d(x,y, kind=\"cubic\")\n",
        "\n",
        "plt.plot(x,y,'o')\n",
        "plt.plot(x_interp, y_cubic(x_interp))"
      ],
      "metadata": {
        "id": "xCQzFODBLPdt"
      },
      "execution_count": null,
      "outputs": []
    },
    {
      "cell_type": "code",
      "source": [
        "for i in range (max_index1[0,0]):\n",
        "  yhat[i] = df[max_index1[0,0]]\n",
        "print(yhat)"
      ],
      "metadata": {
        "id": "Lx4L7GzK0JWR"
      },
      "execution_count": null,
      "outputs": []
    },
    {
      "cell_type": "code",
      "source": [
        "x.shape"
      ],
      "metadata": {
        "id": "UIz8T3yi2pKw"
      },
      "execution_count": null,
      "outputs": []
    },
    {
      "cell_type": "code",
      "source": [
        "yhat.shape"
      ],
      "metadata": {
        "id": "IoM2YFWj2sYA"
      },
      "execution_count": null,
      "outputs": []
    },
    {
      "cell_type": "code",
      "source": [
        "df.shape"
      ],
      "metadata": {
        "id": "QArLzlYH37oU"
      },
      "execution_count": null,
      "outputs": []
    },
    {
      "cell_type": "code",
      "source": [
        "fig, ax=plt.subplots()\n",
        "ax.plot(x,yhat)\n",
        "plt.grid()"
      ],
      "metadata": {
        "id": "6M8Tj55K1_vn"
      },
      "execution_count": null,
      "outputs": []
    },
    {
      "cell_type": "code",
      "source": [
        "max_index1"
      ],
      "metadata": {
        "id": "A94dMEJE5nvk"
      },
      "execution_count": null,
      "outputs": []
    },
    {
      "cell_type": "code",
      "source": [
        "df[max_index1].shape"
      ],
      "metadata": {
        "id": "988KMFUj5vXo"
      },
      "execution_count": null,
      "outputs": []
    },
    {
      "cell_type": "code",
      "source": [
        "import warnings\n",
        "z_max = np.polyfit(max_index1[0], df[max_index1][0], 8)\n",
        "print(z_max)\n",
        "\n",
        "z_min = np.polyfit(min_index1[0], df[min_index1][0], 8)\n",
        "print(z_min)"
      ],
      "metadata": {
        "id": "HaPHDlT12JGK"
      },
      "execution_count": null,
      "outputs": []
    },
    {
      "cell_type": "code",
      "source": [
        "p_max = np.poly1d(z_max)\n",
        "p_min = np.poly1d(z_min)"
      ],
      "metadata": {
        "id": "OtMFXSzn5llv"
      },
      "execution_count": null,
      "outputs": []
    },
    {
      "cell_type": "code",
      "source": [
        "_ = plt.plot(arr_x, yhat, 'red', arr_x, p_max(arr_x), '-', arr_x, p_min(arr_x), '-')\n",
        "plt.show()"
      ],
      "metadata": {
        "id": "sK5wA_Xn6Oxu"
      },
      "execution_count": null,
      "outputs": []
    },
    {
      "cell_type": "code",
      "source": [
        "g_min = p_min(arr_x)\n",
        "for i in range (0, 120):\n",
        "  g_min[i] = p_min(arr_x)[120]"
      ],
      "metadata": {
        "id": "cQQ6UAdF6QzV"
      },
      "execution_count": null,
      "outputs": []
    },
    {
      "cell_type": "code",
      "source": [
        "_ = plt.plot(arr_x, yhat, 'red', arr_x, p_max(arr_x), '-', arr_x, g_min, '-')\n",
        "plt.show()"
      ],
      "metadata": {
        "id": "Zv2zXyzAOE9a"
      },
      "execution_count": null,
      "outputs": []
    },
    {
      "cell_type": "code",
      "source": [
        "g_max = p_max(arr_x)\n",
        "for i in range (0, 58):\n",
        "  g_max[i] = 44"
      ],
      "metadata": {
        "id": "6l9k33nhOJfr"
      },
      "execution_count": null,
      "outputs": []
    },
    {
      "cell_type": "code",
      "source": [
        "_ = plt.plot(arr_x, yhat, 'red', arr_x, g_max, '-', arr_x, g_min, '-')\n",
        "plt.show()"
      ],
      "metadata": {
        "id": "Jm81ZxIxOWnx"
      },
      "execution_count": null,
      "outputs": []
    },
    {
      "cell_type": "code",
      "source": [
        "xp = [58, 156]\n",
        "fp = [44, yhat[156]]\n",
        "for i in range (58, 156):\n",
        "  g_max[i] = np.interp(i, xp, fp)"
      ],
      "metadata": {
        "id": "WbB3vLlGSXNR"
      },
      "execution_count": null,
      "outputs": []
    },
    {
      "cell_type": "code",
      "source": [
        "_ = plt.plot(arr_x, yhat, 'red', arr_x, g_max, '-', arr_x, g_min, '-')\n",
        "plt.show()"
      ],
      "metadata": {
        "id": "mgtYktnMSZBH"
      },
      "execution_count": null,
      "outputs": []
    },
    {
      "cell_type": "code",
      "source": [
        "G = np.zeros(df1.size)"
      ],
      "metadata": {
        "id": "9ecxRYTLUgkX"
      },
      "execution_count": null,
      "outputs": []
    },
    {
      "cell_type": "code",
      "source": [
        "G.shape"
      ],
      "metadata": {
        "id": "1kUZnJfMU971"
      },
      "execution_count": null,
      "outputs": []
    },
    {
      "cell_type": "code",
      "source": [
        "for i in range(0,df1.size):\n",
        "  G[i] = (g_max1[i] - yhat[i])/(g_max1[i] - g_min[i])"
      ],
      "metadata": {
        "id": "yxHUJH1VRCYq"
      },
      "execution_count": null,
      "outputs": []
    },
    {
      "cell_type": "code",
      "source": [
        "fig, ax = plt.subplots()\n",
        "ax.plot(arr_x, G);\n"
      ],
      "metadata": {
        "id": "K3xaJduuVAIS"
      },
      "execution_count": null,
      "outputs": []
    },
    {
      "cell_type": "code",
      "source": [
        "nl=1.33\n",
        "ns=3.88\n",
        "nv=1  #ref index"
      ],
      "metadata": {
        "id": "PnNaEpZcVEgX"
      },
      "execution_count": null,
      "outputs": []
    },
    {
      "cell_type": "code",
      "source": [
        "r1=(nl-nv)/(nl+nv)\n",
        "r2=(ns-nl)/(ns+nl)"
      ],
      "metadata": {
        "id": "iVaLQRR7V5fO"
      },
      "execution_count": null,
      "outputs": []
    },
    {
      "cell_type": "code",
      "source": [
        "a=r1*r1 + r2*r2\n",
        "b=2*r1*r2\n",
        "c=1+(r1*r2)*(r1*r2)"
      ],
      "metadata": {
        "id": "fUCS-7UkWCRP"
      },
      "execution_count": null,
      "outputs": []
    },
    {
      "cell_type": "code",
      "source": [
        "RLmin=(a-b)/(c-b)\n",
        "RLmax=(a+b)/(c+b)"
      ],
      "metadata": {
        "id": "UwxBHRfPWR3P"
      },
      "execution_count": null,
      "outputs": []
    },
    {
      "cell_type": "code",
      "source": [
        "RL=G*(RLmax-RLmin)+RLmin"
      ],
      "metadata": {
        "id": "rJiGVZnjWa3_"
      },
      "execution_count": null,
      "outputs": []
    },
    {
      "cell_type": "code",
      "source": [
        "fig, ax = plt.subplots()\n",
        "ax.plot(arr_x, RL);"
      ],
      "metadata": {
        "id": "v_Z7kf44WnRQ"
      },
      "execution_count": null,
      "outputs": []
    },
    {
      "cell_type": "code",
      "source": [
        "cos_theta=(RL*c-a)/(b*(1-RL))"
      ],
      "metadata": {
        "id": "rDJwFEg3Wrkk"
      },
      "execution_count": null,
      "outputs": []
    },
    {
      "cell_type": "code",
      "source": [
        "fig, ax = plt.subplots()\n",
        "ax.plot(arr_x, cos_theta);"
      ],
      "metadata": {
        "id": "EvUIL60ZXC_T"
      },
      "execution_count": null,
      "outputs": []
    },
    {
      "cell_type": "code",
      "source": [
        "type(cos_theta)"
      ],
      "metadata": {
        "id": "7ypwH5Z9XFQh"
      },
      "execution_count": null,
      "outputs": []
    },
    {
      "cell_type": "code",
      "source": [
        "for i in range (cos_theta.size):\n",
        "  if(cos_theta[i]>1):\n",
        "    cos_theta[i]=1\n",
        "  if(cos_theta[i]<-1):\n",
        "    cos_theta[i]=-1"
      ],
      "metadata": {
        "id": "x9WdZRm2XQGS"
      },
      "execution_count": null,
      "outputs": []
    },
    {
      "cell_type": "code",
      "source": [
        "fig, ax = plt.subplots()\n",
        "ax.plot(arr_x, cos_theta);"
      ],
      "metadata": {
        "id": "fOfvPOslXqO4"
      },
      "execution_count": null,
      "outputs": []
    },
    {
      "cell_type": "code",
      "source": [
        "theta = np.arccos(cos_theta)"
      ],
      "metadata": {
        "id": "HpCbyH1wX8Z2"
      },
      "execution_count": null,
      "outputs": []
    },
    {
      "cell_type": "code",
      "source": [
        "fig, ax = plt.subplots()\n",
        "ax.plot(arr_x, theta);"
      ],
      "metadata": {
        "id": "1W-QYpJQYeZ2"
      },
      "execution_count": null,
      "outputs": []
    },
    {
      "cell_type": "code",
      "source": [
        "t = np.zeros(theta.size)\n",
        "t[0] = theta[0]\n",
        "for i in range(theta.size-1):\n",
        "  t[i+1] = t[i] + abs(theta[i+1] - theta[i])"
      ],
      "metadata": {
        "id": "6WhslZ2HYiXq"
      },
      "execution_count": null,
      "outputs": []
    },
    {
      "cell_type": "code",
      "source": [
        "wlen=550"
      ],
      "metadata": {
        "id": "QRVQl3S6aEIf"
      },
      "execution_count": null,
      "outputs": []
    },
    {
      "cell_type": "code",
      "source": [
        "delta = t*wlen/(4*(np.pi)*nl)"
      ],
      "metadata": {
        "id": "oI62lfkMabld"
      },
      "execution_count": null,
      "outputs": []
    },
    {
      "cell_type": "code",
      "source": [
        "d=0.1*np.array(arr_x)"
      ],
      "metadata": {
        "id": "DfxgvUUqafxM"
      },
      "execution_count": null,
      "outputs": []
    },
    {
      "cell_type": "code",
      "source": [
        "fig, ax = plt.subplots()\n",
        "ax.plot(d, delta);"
      ],
      "metadata": {
        "id": "ZwNjKcfZakFW"
      },
      "execution_count": null,
      "outputs": []
    },
    {
      "cell_type": "code",
      "source": [
        "from scipy.signal import savgol_filter\n",
        "x = np.array(d)\n",
        "y = delta\n",
        "delta = savgol_filter(y, 20, 3) # window size 5, polynomial order 3\n",
        "\n",
        "plt.plot(x,delta, color='red')\n",
        "plt.show()"
      ],
      "metadata": {
        "id": "lgVA7a_TazDK"
      },
      "execution_count": null,
      "outputs": []
    },
    {
      "cell_type": "code",
      "source": [
        "from sklearn.preprocessing import PolynomialFeatures\n",
        "import numpy as np\n",
        "X2 = delta\n"
      ],
      "metadata": {
        "id": "XZs6zkpVbhY-"
      },
      "execution_count": null,
      "outputs": []
    },
    {
      "cell_type": "code",
      "source": [
        "X2.shape\n"
      ],
      "metadata": {
        "id": "c41Q01Qcen9K"
      },
      "execution_count": null,
      "outputs": []
    },
    {
      "cell_type": "code",
      "source": [
        "poly = PolynomialFeatures(degree=2)"
      ],
      "metadata": {
        "id": "YlYkMPQgerOB"
      },
      "execution_count": null,
      "outputs": []
    },
    {
      "cell_type": "code",
      "source": [
        "# Transform the input data to include polynomial features\n",
        "X_poly = poly.fit_transform(X2.reshape(-1, 1))  # Reshape X2 to be a column vector before transformation\n",
        "\n",
        "# Now you can perform polynomial regression using the transformed features\n",
        "# For example, using LinearRegression from sklearn\n",
        "from sklearn.linear_model import LinearRegression\n",
        "\n",
        "# Fit the model\n",
        "model = LinearRegression()\n",
        "model.fit(X_poly, y)  # Assuming y contains the target values corresponding to X2\n"
      ],
      "metadata": {
        "id": "m1zfnl6afgfP"
      },
      "execution_count": null,
      "outputs": []
    },
    {
      "cell_type": "code",
      "source": [
        "# Get the coefficients of the polynomial regression model\n",
        "coefficients = model.coef_\n",
        "\n",
        "# Get the intercept (if any)\n",
        "intercept = model.intercept_\n",
        "\n",
        "# Print the coefficients and intercept\n",
        "print(\"Coefficients:\", coefficients) #a+bx+cx^2  [a,b,c]\n",
        "print(\"Intercept:\", intercept)\n",
        "\n",
        "# Construct the polynomial function\n",
        "def polynomial_function(x):\n",
        "    # Initialize the predicted values based on the intercept\n",
        "    y_pred = intercept\n",
        "\n",
        "    # Multiply each coefficient with the corresponding power of x and add to y_pred\n",
        "    for i in range(len(coefficients)):\n",
        "        y_pred += coefficients[i] * (x ** i)\n",
        "\n",
        "    return y_pred\n",
        "\n",
        "# Example usage: Evaluating the polynomial function at some x value\n",
        "x_value = 5\n",
        "predicted_y = polynomial_function(x_value)\n",
        "print(\"Predicted y for x =\", x_value, \":\", predicted_y)\n"
      ],
      "metadata": {
        "id": "t_okxuXUgSKQ"
      },
      "execution_count": null,
      "outputs": []
    },
    {
      "cell_type": "code",
      "source": [
        "y = x*coefficients[1] + x*x*coefficients[2]"
      ],
      "metadata": {
        "id": "-Y5bLMTygfjk"
      },
      "execution_count": null,
      "outputs": []
    },
    {
      "cell_type": "code",
      "source": [],
      "metadata": {
        "id": "2mNmZjEXmvSq"
      },
      "execution_count": null,
      "outputs": []
    }
  ]
}